{
  "nbformat": 4,
  "nbformat_minor": 0,
  "metadata": {
    "colab": {
      "name": "Project1.ipynb",
      "provenance": [],
      "collapsed_sections": [],
      "authorship_tag": "ABX9TyNHQcp3khLwllQcCsSixoMi",
      "include_colab_link": true
    },
    "kernelspec": {
      "name": "python3",
      "display_name": "Python 3"
    }
  },
  "cells": [
    {
      "cell_type": "markdown",
      "metadata": {
        "id": "view-in-github",
        "colab_type": "text"
      },
      "source": [
        "<a href=\"https://colab.research.google.com/github/mspreeti/Python-Data-Science/blob/main/Project1.ipynb\" target=\"_parent\"><img src=\"https://colab.research.google.com/assets/colab-badge.svg\" alt=\"Open In Colab\"/></a>"
      ]
    },
    {
      "cell_type": "code",
      "metadata": {
        "id": "NKUNaBhc1Qd8"
      },
      "source": [
        "from bs4 import BeautifulSoup as soup\r\n",
        "from urllib.request import urlopen as uReq"
      ],
      "execution_count": null,
      "outputs": []
    },
    {
      "cell_type": "code",
      "metadata": {
        "id": "Wv8dztcDr9LN",
        "colab": {
          "base_uri": "https://localhost:8080/"
        },
        "outputId": "3a9b0314-550e-4475-c378-fe433fffefe6"
      },
      "source": [
        "my_url=\"https://www.flipkart.com/search?q=samsung+mobiles&sid=tyy%2C4io&as=on&as-show=on&otracker=AS_QueryStore_HistoryAutoSuggest_0_2&otracker1=AS_QueryStore_HistoryAutoSuggest_0_2&as-pos=0&as-type=HISTORY&as-searchtext=sa\"\r\n",
        "\r\n",
        "uClient = uReq(my_url)\r\n",
        "page_html = uClient.read()\r\n",
        "uClient.close()\r\n",
        "page_soup = soup(page_html, \"html.parser\")\r\n",
        "\r\n",
        "containers = page_soup.findAll(\"div\", { \"class\": \"_2kHMtA\"})\r\n",
        "#print(len(containers))\r\n",
        "\r\n",
        "#print(soup.prettify(containers[0]))\r\n",
        "\r\n",
        "container = containers[0]\r\n",
        "#print(container.div.img[\"alt\"])\r\n",
        "\r\n",
        "price = container.findAll(\"div\", {\"class\": \"col col-5-12 _2o7WAb\"})\r\n",
        "#print(price[0].text)\r\n",
        "\r\n",
        "\r\n",
        "ratings = container.findAll(\"div\", {\"class\": \"niH0FQ\"})\r\n",
        "#print(ratings[0].text)\r\n",
        "\r\n",
        "filename = \"products.csv\"\r\n",
        "f = open(filename, \"w\")\r\n",
        "\r\n",
        "headers = \"Product_Name, Pricing, Ratings \\n\"\r\n",
        "f.write(headers)\r\n",
        "\r\n",
        "for container in containers:\r\n",
        "   product_name = container.div.img[\"alt\"]\r\n",
        "   price_container = container.findAll(\"div\", {\"class\": \"_30jeq3 _1_WHN1\"})\r\n",
        "   price = price_container[0].text.strip()\r\n",
        "\r\n",
        "   rating_container = container.findAll(\"div\", {\"class\": \"_3LWZlK\"})\r\n",
        "   rating = rating_container[0].text.strip()\r\n",
        "\r\n",
        "  #print(\"Product_Name:\"+ product_name)\r\n",
        "  #print(\"Price: \" + price)\r\n",
        "  #print(\"Ratings:\" + rating)\r\n",
        "\r\n",
        "   #String parsing\r\n",
        "   trim_price=''.join(price.split(','))\r\n",
        "   rm_rupee = trim_price.split('₹')\r\n",
        "   add_rs_price = \"Rs.\"+rm_rupee[1]\r\n",
        "   split_price = add_rs_price.split('E')\r\n",
        "   final_price = split_price[0]\r\n",
        "\r\n",
        "   split_rating = rating.split(\" \")\r\n",
        "   final_rating = split_rating[0]\r\n",
        "\r\n",
        "   print(product_name.replace(\",\" ,\"|\") +\",\" + final_price +\",\" + final_rating + \"\\n\")\r\n",
        "   f.write(product_name.replace(\",\" ,\"|\") +\",\" + final_price +\",\" + final_rating + \"\\n\")\r\n",
        "f.close()\r\n"
      ],
      "execution_count": null,
      "outputs": [
        {
          "output_type": "stream",
          "text": [
            "Samsung Galaxy F41 (Fusion Blue| 128 GB),Rs.16499,4.3\n",
            "\n",
            "Samsung Galaxy F41 (Fusion Blue| 64 GB),Rs.15499,4.3\n",
            "\n",
            "Samsung Galaxy F41 (Fusion Green| 128 GB),Rs.16499,4.3\n",
            "\n",
            "Samsung Galaxy F41 (Fusion Black| 64 GB),Rs.15499,4.3\n",
            "\n",
            "Samsung Galaxy F41 (Fusion Green| 64 GB),Rs.15499,4.3\n",
            "\n",
            "Samsung Guru Music 2,Rs.1710,4.3\n",
            "\n",
            "Samsung Guru Music 2,Rs.1852,4.3\n",
            "\n",
            "Samsung M01 core (Black| 32 GB),Rs.6210,3.9\n",
            "\n",
            "Samsung M01 core (Black| 16 GB),Rs.4999,4\n",
            "\n",
            "Samsung Galaxy M31s (Mirage Blue| 128 GB),Rs.22495,4.2\n",
            "\n",
            "Samsung Metro 313 Dual Sim,Rs.2295,4.3\n",
            "\n",
            "Samsung Metro 313 Dual Sim,Rs.2310,4.3\n",
            "\n",
            "Samsung Galaxy M21 (Raven Black| 64 GB),Rs.14083,4.3\n",
            "\n",
            "Samsung Galaxy M31 (Ocean Blue| 128 GB),Rs.17821,4.3\n",
            "\n",
            "Samsung Guru Music 2,Rs.1915,4.3\n",
            "\n",
            "Samsung Guru FM Plus,Rs.1610,4.2\n",
            "\n",
            "Samsung Galaxy A31 (Prism Crush Black| 128 GB),Rs.17999,4.3\n",
            "\n",
            "Samsung Guru FM Plus SM-B110E/D,Rs.1662,4.3\n",
            "\n",
            "Samsung Galaxy A21s (Blue| 64 GB),Rs.14999,4.2\n",
            "\n",
            "Samsung Guru GT,Rs.1399,4.1\n",
            "\n",
            "Samsung Galaxy M01 (Blue| 32 GB),Rs.7909,4.2\n",
            "\n",
            "Samsung Guru Music 2 SM-B310E,Rs.1899,4.1\n",
            "\n",
            "Samsung Galaxy A51 (Prism Crush Blue| 128 GB),Rs.24499,4.3\n",
            "\n",
            "Samsung Galaxy A21s (White| 64 GB),Rs.14999,4.2\n",
            "\n"
          ],
          "name": "stdout"
        }
      ]
    },
    {
      "cell_type": "code",
      "metadata": {
        "id": "q4l7ZyVZ1Qrx"
      },
      "source": [
        ""
      ],
      "execution_count": null,
      "outputs": []
    },
    {
      "cell_type": "code",
      "metadata": {
        "id": "0biAMFqH1QwX"
      },
      "source": [
        ""
      ],
      "execution_count": null,
      "outputs": []
    },
    {
      "cell_type": "code",
      "metadata": {
        "id": "4k_rZ0XO1Q09"
      },
      "source": [
        ""
      ],
      "execution_count": null,
      "outputs": []
    }
  ]
}